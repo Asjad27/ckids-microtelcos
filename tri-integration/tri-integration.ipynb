{
 "cells": [
  {
   "cell_type": "markdown",
   "metadata": {},
   "source": [
    "<h4>Importing required libraries</h4>"
   ]
  },
  {
   "cell_type": "code",
   "execution_count": 16,
   "metadata": {},
   "outputs": [],
   "source": [
    "%matplotlib inline\n",
    "\n",
    "import geopandas \n",
    "import numpy as np\n",
    "import pandas as pd"
   ]
  },
  {
   "cell_type": "markdown",
   "metadata": {},
   "source": [
    "<h4>Loading point shapefile containing the Terrain Ruggedness Index</h4>"
   ]
  },
  {
   "cell_type": "code",
   "execution_count": 2,
   "metadata": {},
   "outputs": [],
   "source": [
    "tri = geopandas.read_file(\"../../Data/tl_2018_06_bg_point_tri.shp\")"
   ]
  },
  {
   "cell_type": "markdown",
   "metadata": {},
   "source": [
    "<h4>Taking a peek at the loaded data from shapefile</h4>"
   ]
  },
  {
   "cell_type": "code",
   "execution_count": 3,
   "metadata": {},
   "outputs": [
    {
     "data": {
      "text/html": [
       "<div>\n",
       "<style scoped>\n",
       "    .dataframe tbody tr th:only-of-type {\n",
       "        vertical-align: middle;\n",
       "    }\n",
       "\n",
       "    .dataframe tbody tr th {\n",
       "        vertical-align: top;\n",
       "    }\n",
       "\n",
       "    .dataframe thead th {\n",
       "        text-align: right;\n",
       "    }\n",
       "</style>\n",
       "<table border=\"1\" class=\"dataframe\">\n",
       "  <thead>\n",
       "    <tr style=\"text-align: right;\">\n",
       "      <th></th>\n",
       "      <th>FID_tl_201</th>\n",
       "      <th>STATEFP</th>\n",
       "      <th>COUNTYFP</th>\n",
       "      <th>TRACTCE</th>\n",
       "      <th>BLKGRPCE</th>\n",
       "      <th>GEOID</th>\n",
       "      <th>NAMELSAD</th>\n",
       "      <th>MTFCC</th>\n",
       "      <th>FUNCSTAT</th>\n",
       "      <th>ALAND</th>\n",
       "      <th>AWATER</th>\n",
       "      <th>INTPTLAT</th>\n",
       "      <th>INTPTLON</th>\n",
       "      <th>INTPTLATN</th>\n",
       "      <th>INTPTLONN</th>\n",
       "      <th>FID_tri_po</th>\n",
       "      <th>Id</th>\n",
       "      <th>gridcode</th>\n",
       "      <th>geometry</th>\n",
       "    </tr>\n",
       "  </thead>\n",
       "  <tbody>\n",
       "    <tr>\n",
       "      <th>0</th>\n",
       "      <td>16659</td>\n",
       "      <td>06</td>\n",
       "      <td>073</td>\n",
       "      <td>010009</td>\n",
       "      <td>4</td>\n",
       "      <td>060730100094</td>\n",
       "      <td>Block Group 4</td>\n",
       "      <td>G5030</td>\n",
       "      <td>S</td>\n",
       "      <td>641527.0</td>\n",
       "      <td>0.0</td>\n",
       "      <td>+32.5447420</td>\n",
       "      <td>-117.0382219</td>\n",
       "      <td>32.544742</td>\n",
       "      <td>-117.038222</td>\n",
       "      <td>1206760</td>\n",
       "      <td>1206760</td>\n",
       "      <td>74940</td>\n",
       "      <td>POINT (-117.03822 32.54474)</td>\n",
       "    </tr>\n",
       "    <tr>\n",
       "      <th>1</th>\n",
       "      <td>15247</td>\n",
       "      <td>06</td>\n",
       "      <td>073</td>\n",
       "      <td>010009</td>\n",
       "      <td>1</td>\n",
       "      <td>060730100091</td>\n",
       "      <td>Block Group 1</td>\n",
       "      <td>G5030</td>\n",
       "      <td>S</td>\n",
       "      <td>1766491.0</td>\n",
       "      <td>532114.0</td>\n",
       "      <td>+32.5453695</td>\n",
       "      <td>-117.0559349</td>\n",
       "      <td>32.545369</td>\n",
       "      <td>-117.055935</td>\n",
       "      <td>1206758</td>\n",
       "      <td>1206758</td>\n",
       "      <td>35384</td>\n",
       "      <td>POINT (-117.05593 32.54537)</td>\n",
       "    </tr>\n",
       "    <tr>\n",
       "      <th>2</th>\n",
       "      <td>16951</td>\n",
       "      <td>06</td>\n",
       "      <td>073</td>\n",
       "      <td>010009</td>\n",
       "      <td>2</td>\n",
       "      <td>060730100092</td>\n",
       "      <td>Block Group 2</td>\n",
       "      <td>G5030</td>\n",
       "      <td>S</td>\n",
       "      <td>422248.0</td>\n",
       "      <td>0.0</td>\n",
       "      <td>+32.5470477</td>\n",
       "      <td>-117.0518207</td>\n",
       "      <td>32.547048</td>\n",
       "      <td>-117.051821</td>\n",
       "      <td>1206758</td>\n",
       "      <td>1206758</td>\n",
       "      <td>35384</td>\n",
       "      <td>POINT (-117.05182 32.54705)</td>\n",
       "    </tr>\n",
       "    <tr>\n",
       "      <th>3</th>\n",
       "      <td>9114</td>\n",
       "      <td>06</td>\n",
       "      <td>073</td>\n",
       "      <td>010109</td>\n",
       "      <td>1</td>\n",
       "      <td>060730101091</td>\n",
       "      <td>Block Group 1</td>\n",
       "      <td>G5030</td>\n",
       "      <td>S</td>\n",
       "      <td>11426699.0</td>\n",
       "      <td>904220.0</td>\n",
       "      <td>+32.5494881</td>\n",
       "      <td>-117.0884184</td>\n",
       "      <td>32.549488</td>\n",
       "      <td>-117.088418</td>\n",
       "      <td>1206754</td>\n",
       "      <td>1206754</td>\n",
       "      <td>116151</td>\n",
       "      <td>POINT (-117.08842 32.54949)</td>\n",
       "    </tr>\n",
       "    <tr>\n",
       "      <th>4</th>\n",
       "      <td>16952</td>\n",
       "      <td>06</td>\n",
       "      <td>073</td>\n",
       "      <td>010009</td>\n",
       "      <td>3</td>\n",
       "      <td>060730100093</td>\n",
       "      <td>Block Group 3</td>\n",
       "      <td>G5030</td>\n",
       "      <td>S</td>\n",
       "      <td>699839.0</td>\n",
       "      <td>0.0</td>\n",
       "      <td>+32.5530043</td>\n",
       "      <td>-117.0544096</td>\n",
       "      <td>32.553004</td>\n",
       "      <td>-117.054410</td>\n",
       "      <td>1206334</td>\n",
       "      <td>1206334</td>\n",
       "      <td>36000</td>\n",
       "      <td>POINT (-117.05441 32.55300)</td>\n",
       "    </tr>\n",
       "  </tbody>\n",
       "</table>\n",
       "</div>"
      ],
      "text/plain": [
       "   FID_tl_201 STATEFP COUNTYFP TRACTCE BLKGRPCE         GEOID       NAMELSAD  \\\n",
       "0       16659      06      073  010009        4  060730100094  Block Group 4   \n",
       "1       15247      06      073  010009        1  060730100091  Block Group 1   \n",
       "2       16951      06      073  010009        2  060730100092  Block Group 2   \n",
       "3        9114      06      073  010109        1  060730101091  Block Group 1   \n",
       "4       16952      06      073  010009        3  060730100093  Block Group 3   \n",
       "\n",
       "   MTFCC FUNCSTAT       ALAND    AWATER     INTPTLAT      INTPTLON  INTPTLATN  \\\n",
       "0  G5030        S    641527.0       0.0  +32.5447420  -117.0382219  32.544742   \n",
       "1  G5030        S   1766491.0  532114.0  +32.5453695  -117.0559349  32.545369   \n",
       "2  G5030        S    422248.0       0.0  +32.5470477  -117.0518207  32.547048   \n",
       "3  G5030        S  11426699.0  904220.0  +32.5494881  -117.0884184  32.549488   \n",
       "4  G5030        S    699839.0       0.0  +32.5530043  -117.0544096  32.553004   \n",
       "\n",
       "    INTPTLONN  FID_tri_po       Id  gridcode                     geometry  \n",
       "0 -117.038222     1206760  1206760     74940  POINT (-117.03822 32.54474)  \n",
       "1 -117.055935     1206758  1206758     35384  POINT (-117.05593 32.54537)  \n",
       "2 -117.051821     1206758  1206758     35384  POINT (-117.05182 32.54705)  \n",
       "3 -117.088418     1206754  1206754    116151  POINT (-117.08842 32.54949)  \n",
       "4 -117.054410     1206334  1206334     36000  POINT (-117.05441 32.55300)  "
      ]
     },
     "execution_count": 3,
     "metadata": {},
     "output_type": "execute_result"
    }
   ],
   "source": [
    "tri.head()"
   ]
  },
  {
   "cell_type": "markdown",
   "metadata": {},
   "source": [
    "<h4>Loading a visualization of the data to make sure the shapefile loaded correctly</h4>"
   ]
  },
  {
   "cell_type": "code",
   "execution_count": 4,
   "metadata": {},
   "outputs": [
    {
     "data": {
      "text/plain": [
       "<AxesSubplot:>"
      ]
     },
     "execution_count": 4,
     "metadata": {},
     "output_type": "execute_result"
    },
    {
     "data": {
      "image/png": "[encoded data removed]",
      "text/plain": [
       "<Figure size 432x288 with 1 Axes>"
      ]
     },
     "metadata": {
      "needs_background": "light"
     },
     "output_type": "display_data"
    }
   ],
   "source": [
    "tri.plot()"
   ]
  },
  {
   "cell_type": "markdown",
   "metadata": {},
   "source": [
    "<h4>Loading Block Groups shapefile</h4>"
   ]
  },
  {
   "cell_type": "code",
   "execution_count": 5,
   "metadata": {},
   "outputs": [],
   "source": [
    "bg = geopandas.read_file(\"../../Data/tl_2018_06_bg.zip\")"
   ]
  },
  {
   "cell_type": "markdown",
   "metadata": {},
   "source": [
    "<h4>Taking a peek at the loaded block groups data</h4>"
   ]
  },
  {
   "cell_type": "code",
   "execution_count": 6,
   "metadata": {},
   "outputs": [
    {
     "data": {
      "text/html": [
       "<div>\n",
       "<style scoped>\n",
       "    .dataframe tbody tr th:only-of-type {\n",
       "        vertical-align: middle;\n",
       "    }\n",
       "\n",
       "    .dataframe tbody tr th {\n",
       "        vertical-align: top;\n",
       "    }\n",
       "\n",
       "    .dataframe thead th {\n",
       "        text-align: right;\n",
       "    }\n",
       "</style>\n",
       "<table border=\"1\" class=\"dataframe\">\n",
       "  <thead>\n",
       "    <tr style=\"text-align: right;\">\n",
       "      <th></th>\n",
       "      <th>STATEFP</th>\n",
       "      <th>COUNTYFP</th>\n",
       "      <th>TRACTCE</th>\n",
       "      <th>BLKGRPCE</th>\n",
       "      <th>GEOID</th>\n",
       "      <th>NAMELSAD</th>\n",
       "      <th>MTFCC</th>\n",
       "      <th>FUNCSTAT</th>\n",
       "      <th>ALAND</th>\n",
       "      <th>AWATER</th>\n",
       "      <th>INTPTLAT</th>\n",
       "      <th>INTPTLON</th>\n",
       "      <th>geometry</th>\n",
       "    </tr>\n",
       "  </thead>\n",
       "  <tbody>\n",
       "    <tr>\n",
       "      <th>0</th>\n",
       "      <td>06</td>\n",
       "      <td>029</td>\n",
       "      <td>002100</td>\n",
       "      <td>1</td>\n",
       "      <td>060290021001</td>\n",
       "      <td>Block Group 1</td>\n",
       "      <td>G5030</td>\n",
       "      <td>S</td>\n",
       "      <td>405200</td>\n",
       "      <td>0</td>\n",
       "      <td>+35.3646355</td>\n",
       "      <td>-118.9967818</td>\n",
       "      <td>POLYGON ((-119.00072 35.36158, -118.99903 35.3...</td>\n",
       "    </tr>\n",
       "    <tr>\n",
       "      <th>1</th>\n",
       "      <td>06</td>\n",
       "      <td>029</td>\n",
       "      <td>002100</td>\n",
       "      <td>2</td>\n",
       "      <td>060290021002</td>\n",
       "      <td>Block Group 2</td>\n",
       "      <td>G5030</td>\n",
       "      <td>S</td>\n",
       "      <td>229057</td>\n",
       "      <td>0</td>\n",
       "      <td>+35.3592017</td>\n",
       "      <td>-118.9974486</td>\n",
       "      <td>POLYGON ((-119.00092 35.35921, -119.00091 35.3...</td>\n",
       "    </tr>\n",
       "    <tr>\n",
       "      <th>2</th>\n",
       "      <td>06</td>\n",
       "      <td>029</td>\n",
       "      <td>002100</td>\n",
       "      <td>3</td>\n",
       "      <td>060290021003</td>\n",
       "      <td>Block Group 3</td>\n",
       "      <td>G5030</td>\n",
       "      <td>S</td>\n",
       "      <td>547260</td>\n",
       "      <td>0</td>\n",
       "      <td>+35.3556693</td>\n",
       "      <td>-118.9990812</td>\n",
       "      <td>POLYGON ((-119.00300 35.35244, -119.00300 35.3...</td>\n",
       "    </tr>\n",
       "    <tr>\n",
       "      <th>3</th>\n",
       "      <td>06</td>\n",
       "      <td>029</td>\n",
       "      <td>002200</td>\n",
       "      <td>1</td>\n",
       "      <td>060290022001</td>\n",
       "      <td>Block Group 1</td>\n",
       "      <td>G5030</td>\n",
       "      <td>S</td>\n",
       "      <td>335352</td>\n",
       "      <td>0</td>\n",
       "      <td>+35.3667005</td>\n",
       "      <td>-118.9837235</td>\n",
       "      <td>POLYGON ((-118.98869 35.36755, -118.98775 35.3...</td>\n",
       "    </tr>\n",
       "    <tr>\n",
       "      <th>4</th>\n",
       "      <td>06</td>\n",
       "      <td>029</td>\n",
       "      <td>002200</td>\n",
       "      <td>2</td>\n",
       "      <td>060290022002</td>\n",
       "      <td>Block Group 2</td>\n",
       "      <td>G5030</td>\n",
       "      <td>S</td>\n",
       "      <td>292740</td>\n",
       "      <td>0</td>\n",
       "      <td>+35.3631225</td>\n",
       "      <td>-118.9845714</td>\n",
       "      <td>POLYGON ((-118.98857 35.36303, -118.98857 35.3...</td>\n",
       "    </tr>\n",
       "  </tbody>\n",
       "</table>\n",
       "</div>"
      ],
      "text/plain": [
       "  STATEFP COUNTYFP TRACTCE BLKGRPCE         GEOID       NAMELSAD  MTFCC  \\\n",
       "0      06      029  002100        1  060290021001  Block Group 1  G5030   \n",
       "1      06      029  002100        2  060290021002  Block Group 2  G5030   \n",
       "2      06      029  002100        3  060290021003  Block Group 3  G5030   \n",
       "3      06      029  002200        1  060290022001  Block Group 1  G5030   \n",
       "4      06      029  002200        2  060290022002  Block Group 2  G5030   \n",
       "\n",
       "  FUNCSTAT   ALAND  AWATER     INTPTLAT      INTPTLON  \\\n",
       "0        S  405200       0  +35.3646355  -118.9967818   \n",
       "1        S  229057       0  +35.3592017  -118.9974486   \n",
       "2        S  547260       0  +35.3556693  -118.9990812   \n",
       "3        S  335352       0  +35.3667005  -118.9837235   \n",
       "4        S  292740       0  +35.3631225  -118.9845714   \n",
       "\n",
       "                                            geometry  \n",
       "0  POLYGON ((-119.00072 35.36158, -118.99903 35.3...  \n",
       "1  POLYGON ((-119.00092 35.35921, -119.00091 35.3...  \n",
       "2  POLYGON ((-119.00300 35.35244, -119.00300 35.3...  \n",
       "3  POLYGON ((-118.98869 35.36755, -118.98775 35.3...  \n",
       "4  POLYGON ((-118.98857 35.36303, -118.98857 35.3...  "
      ]
     },
     "execution_count": 6,
     "metadata": {},
     "output_type": "execute_result"
    }
   ],
   "source": [
    "bg.head()"
   ]
  },
  {
   "cell_type": "markdown",
   "metadata": {},
   "source": [
    "<h4>Checking coordinate system of both datasets</h4>"
   ]
  },
  {
   "cell_type": "code",
   "execution_count": 7,
   "metadata": {},
   "outputs": [
    {
     "name": "stdout",
     "output_type": "stream",
     "text": [
      "epsg:4269\n",
      "epsg:4269\n"
     ]
    }
   ],
   "source": [
    "print(bg.crs)\n",
    "print(tri.crs)"
   ]
  },
  {
   "cell_type": "markdown",
   "metadata": {},
   "source": [
    "<h4>Checking bounds of both datasets</h4>"
   ]
  },
  {
   "cell_type": "code",
   "execution_count": 8,
   "metadata": {},
   "outputs": [
    {
     "name": "stdout",
     "output_type": "stream",
     "text": [
      "[-124.3754086   32.544742  -114.2945493   41.9466483]\n",
      "[-124.482003   32.528832 -114.131211   42.009503]\n"
     ]
    }
   ],
   "source": [
    "print(tri.total_bounds)\n",
    "print(bg.total_bounds)"
   ]
  },
  {
   "cell_type": "markdown",
   "metadata": {},
   "source": [
    "<h4>Performing spatial join of TRI data with block groups using contains operation</h4>"
   ]
  },
  {
   "cell_type": "code",
   "execution_count": 9,
   "metadata": {},
   "outputs": [],
   "source": [
    "joined = geopandas.sjoin(tri, bg, how=\"right\", op='intersects')"
   ]
  },
  {
   "cell_type": "markdown",
   "metadata": {},
   "source": [
    "<h4>Peeking at the top rows of the joined data</h4>"
   ]
  },
  {
   "cell_type": "code",
   "execution_count": 10,
   "metadata": {},
   "outputs": [
    {
     "data": {
      "text/html": [
       "<div>\n",
       "<style scoped>\n",
       "    .dataframe tbody tr th:only-of-type {\n",
       "        vertical-align: middle;\n",
       "    }\n",
       "\n",
       "    .dataframe tbody tr th {\n",
       "        vertical-align: top;\n",
       "    }\n",
       "\n",
       "    .dataframe thead th {\n",
       "        text-align: right;\n",
       "    }\n",
       "</style>\n",
       "<table border=\"1\" class=\"dataframe\">\n",
       "  <thead>\n",
       "    <tr style=\"text-align: right;\">\n",
       "      <th></th>\n",
       "      <th>index_left</th>\n",
       "      <th>FID_tl_201</th>\n",
       "      <th>STATEFP_x</th>\n",
       "      <th>COUNTYFP_x</th>\n",
       "      <th>TRACTCE_x</th>\n",
       "      <th>BLKGRPCE_x</th>\n",
       "      <th>GEOID_x</th>\n",
       "      <th>NAMELSAD_x</th>\n",
       "      <th>MTFCC_x</th>\n",
       "      <th>FUNCSTAT_x</th>\n",
       "      <th>...</th>\n",
       "      <th>BLKGRPCE_y</th>\n",
       "      <th>GEOID_y</th>\n",
       "      <th>NAMELSAD_y</th>\n",
       "      <th>MTFCC_y</th>\n",
       "      <th>FUNCSTAT_y</th>\n",
       "      <th>ALAND_y</th>\n",
       "      <th>AWATER_y</th>\n",
       "      <th>INTPTLAT_y</th>\n",
       "      <th>INTPTLON_y</th>\n",
       "      <th>geometry</th>\n",
       "    </tr>\n",
       "  </thead>\n",
       "  <tbody>\n",
       "    <tr>\n",
       "      <th>0</th>\n",
       "      <td>13323.0</td>\n",
       "      <td>1.0</td>\n",
       "      <td>06</td>\n",
       "      <td>029</td>\n",
       "      <td>002100</td>\n",
       "      <td>1</td>\n",
       "      <td>060290021001</td>\n",
       "      <td>Block Group 1</td>\n",
       "      <td>G5030</td>\n",
       "      <td>S</td>\n",
       "      <td>...</td>\n",
       "      <td>1</td>\n",
       "      <td>060290021001</td>\n",
       "      <td>Block Group 1</td>\n",
       "      <td>G5030</td>\n",
       "      <td>S</td>\n",
       "      <td>405200</td>\n",
       "      <td>0</td>\n",
       "      <td>+35.3646355</td>\n",
       "      <td>-118.9967818</td>\n",
       "      <td>POLYGON ((-119.00072 35.36158, -118.99903 35.3...</td>\n",
       "    </tr>\n",
       "    <tr>\n",
       "      <th>1</th>\n",
       "      <td>13309.0</td>\n",
       "      <td>2.0</td>\n",
       "      <td>06</td>\n",
       "      <td>029</td>\n",
       "      <td>002100</td>\n",
       "      <td>2</td>\n",
       "      <td>060290021002</td>\n",
       "      <td>Block Group 2</td>\n",
       "      <td>G5030</td>\n",
       "      <td>S</td>\n",
       "      <td>...</td>\n",
       "      <td>2</td>\n",
       "      <td>060290021002</td>\n",
       "      <td>Block Group 2</td>\n",
       "      <td>G5030</td>\n",
       "      <td>S</td>\n",
       "      <td>229057</td>\n",
       "      <td>0</td>\n",
       "      <td>+35.3592017</td>\n",
       "      <td>-118.9974486</td>\n",
       "      <td>POLYGON ((-119.00092 35.35921, -119.00091 35.3...</td>\n",
       "    </tr>\n",
       "    <tr>\n",
       "      <th>2</th>\n",
       "      <td>13297.0</td>\n",
       "      <td>3.0</td>\n",
       "      <td>06</td>\n",
       "      <td>029</td>\n",
       "      <td>002100</td>\n",
       "      <td>3</td>\n",
       "      <td>060290021003</td>\n",
       "      <td>Block Group 3</td>\n",
       "      <td>G5030</td>\n",
       "      <td>S</td>\n",
       "      <td>...</td>\n",
       "      <td>3</td>\n",
       "      <td>060290021003</td>\n",
       "      <td>Block Group 3</td>\n",
       "      <td>G5030</td>\n",
       "      <td>S</td>\n",
       "      <td>547260</td>\n",
       "      <td>0</td>\n",
       "      <td>+35.3556693</td>\n",
       "      <td>-118.9990812</td>\n",
       "      <td>POLYGON ((-119.00300 35.35244, -119.00300 35.3...</td>\n",
       "    </tr>\n",
       "    <tr>\n",
       "      <th>3</th>\n",
       "      <td>13331.0</td>\n",
       "      <td>4.0</td>\n",
       "      <td>06</td>\n",
       "      <td>029</td>\n",
       "      <td>002200</td>\n",
       "      <td>1</td>\n",
       "      <td>060290022001</td>\n",
       "      <td>Block Group 1</td>\n",
       "      <td>G5030</td>\n",
       "      <td>S</td>\n",
       "      <td>...</td>\n",
       "      <td>1</td>\n",
       "      <td>060290022001</td>\n",
       "      <td>Block Group 1</td>\n",
       "      <td>G5030</td>\n",
       "      <td>S</td>\n",
       "      <td>335352</td>\n",
       "      <td>0</td>\n",
       "      <td>+35.3667005</td>\n",
       "      <td>-118.9837235</td>\n",
       "      <td>POLYGON ((-118.98869 35.36755, -118.98775 35.3...</td>\n",
       "    </tr>\n",
       "    <tr>\n",
       "      <th>4</th>\n",
       "      <td>13319.0</td>\n",
       "      <td>5.0</td>\n",
       "      <td>06</td>\n",
       "      <td>029</td>\n",
       "      <td>002200</td>\n",
       "      <td>2</td>\n",
       "      <td>060290022002</td>\n",
       "      <td>Block Group 2</td>\n",
       "      <td>G5030</td>\n",
       "      <td>S</td>\n",
       "      <td>...</td>\n",
       "      <td>2</td>\n",
       "      <td>060290022002</td>\n",
       "      <td>Block Group 2</td>\n",
       "      <td>G5030</td>\n",
       "      <td>S</td>\n",
       "      <td>292740</td>\n",
       "      <td>0</td>\n",
       "      <td>+35.3631225</td>\n",
       "      <td>-118.9845714</td>\n",
       "      <td>POLYGON ((-118.98857 35.36303, -118.98857 35.3...</td>\n",
       "    </tr>\n",
       "  </tbody>\n",
       "</table>\n",
       "<p>5 rows × 32 columns</p>\n",
       "</div>"
      ],
      "text/plain": [
       "   index_left  FID_tl_201 STATEFP_x COUNTYFP_x TRACTCE_x BLKGRPCE_x  \\\n",
       "0     13323.0         1.0        06        029    002100          1   \n",
       "1     13309.0         2.0        06        029    002100          2   \n",
       "2     13297.0         3.0        06        029    002100          3   \n",
       "3     13331.0         4.0        06        029    002200          1   \n",
       "4     13319.0         5.0        06        029    002200          2   \n",
       "\n",
       "        GEOID_x     NAMELSAD_x MTFCC_x FUNCSTAT_x  ...  BLKGRPCE_y  \\\n",
       "0  060290021001  Block Group 1   G5030          S  ...           1   \n",
       "1  060290021002  Block Group 2   G5030          S  ...           2   \n",
       "2  060290021003  Block Group 3   G5030          S  ...           3   \n",
       "3  060290022001  Block Group 1   G5030          S  ...           1   \n",
       "4  060290022002  Block Group 2   G5030          S  ...           2   \n",
       "\n",
       "        GEOID_y     NAMELSAD_y MTFCC_y  FUNCSTAT_y  ALAND_y  AWATER_y  \\\n",
       "0  060290021001  Block Group 1   G5030           S   405200         0   \n",
       "1  060290021002  Block Group 2   G5030           S   229057         0   \n",
       "2  060290021003  Block Group 3   G5030           S   547260         0   \n",
       "3  060290022001  Block Group 1   G5030           S   335352         0   \n",
       "4  060290022002  Block Group 2   G5030           S   292740         0   \n",
       "\n",
       "    INTPTLAT_y    INTPTLON_y  \\\n",
       "0  +35.3646355  -118.9967818   \n",
       "1  +35.3592017  -118.9974486   \n",
       "2  +35.3556693  -118.9990812   \n",
       "3  +35.3667005  -118.9837235   \n",
       "4  +35.3631225  -118.9845714   \n",
       "\n",
       "                                            geometry  \n",
       "0  POLYGON ((-119.00072 35.36158, -118.99903 35.3...  \n",
       "1  POLYGON ((-119.00092 35.35921, -119.00091 35.3...  \n",
       "2  POLYGON ((-119.00300 35.35244, -119.00300 35.3...  \n",
       "3  POLYGON ((-118.98869 35.36755, -118.98775 35.3...  \n",
       "4  POLYGON ((-118.98857 35.36303, -118.98857 35.3...  \n",
       "\n",
       "[5 rows x 32 columns]"
      ]
     },
     "execution_count": 10,
     "metadata": {},
     "output_type": "execute_result"
    }
   ],
   "source": [
    "joined.head()"
   ]
  },
  {
   "cell_type": "markdown",
   "metadata": {},
   "source": [
    "<h4>Filtering columns to only include the GEOID and TRI value</h4>"
   ]
  },
  {
   "cell_type": "code",
   "execution_count": 11,
   "metadata": {},
   "outputs": [],
   "source": [
    "joined['tri'] = joined.apply(lambda x: x.gridcode/1000, axis=1)\n",
    "joined = joined[['GEOID_x', 'tri']].rename(columns={\"GEOID_x\": \"GEOID\"})"
   ]
  },
  {
   "cell_type": "markdown",
   "metadata": {},
   "source": [
    "<h4>Peeking at the top rows of the final dataframe</h4>"
   ]
  },
  {
   "cell_type": "code",
   "execution_count": 12,
   "metadata": {},
   "outputs": [
    {
     "data": {
      "text/html": [
       "<div>\n",
       "<style scoped>\n",
       "    .dataframe tbody tr th:only-of-type {\n",
       "        vertical-align: middle;\n",
       "    }\n",
       "\n",
       "    .dataframe tbody tr th {\n",
       "        vertical-align: top;\n",
       "    }\n",
       "\n",
       "    .dataframe thead th {\n",
       "        text-align: right;\n",
       "    }\n",
       "</style>\n",
       "<table border=\"1\" class=\"dataframe\">\n",
       "  <thead>\n",
       "    <tr style=\"text-align: right;\">\n",
       "      <th></th>\n",
       "      <th>GEOID</th>\n",
       "      <th>tri</th>\n",
       "    </tr>\n",
       "  </thead>\n",
       "  <tbody>\n",
       "    <tr>\n",
       "      <th>0</th>\n",
       "      <td>060290021001</td>\n",
       "      <td>12.767</td>\n",
       "    </tr>\n",
       "    <tr>\n",
       "      <th>1</th>\n",
       "      <td>060290021002</td>\n",
       "      <td>12.767</td>\n",
       "    </tr>\n",
       "    <tr>\n",
       "      <th>2</th>\n",
       "      <td>060290021003</td>\n",
       "      <td>4.000</td>\n",
       "    </tr>\n",
       "    <tr>\n",
       "      <th>3</th>\n",
       "      <td>060290022001</td>\n",
       "      <td>29.000</td>\n",
       "    </tr>\n",
       "    <tr>\n",
       "      <th>4</th>\n",
       "      <td>060290022002</td>\n",
       "      <td>16.492</td>\n",
       "    </tr>\n",
       "  </tbody>\n",
       "</table>\n",
       "</div>"
      ],
      "text/plain": [
       "          GEOID     tri\n",
       "0  060290021001  12.767\n",
       "1  060290021002  12.767\n",
       "2  060290021003   4.000\n",
       "3  060290022001  29.000\n",
       "4  060290022002  16.492"
      ]
     },
     "execution_count": 12,
     "metadata": {},
     "output_type": "execute_result"
    }
   ],
   "source": [
    "joined.head()"
   ]
  },
  {
   "cell_type": "markdown",
   "metadata": {},
   "source": [
    "<h4>Checking how many block groups have no tri data</h4>"
   ]
  },
  {
   "cell_type": "code",
   "execution_count": 13,
   "metadata": {},
   "outputs": [
    {
     "data": {
      "text/plain": [
       "GEOID    5\n",
       "tri      5\n",
       "dtype: int64"
      ]
     },
     "execution_count": 13,
     "metadata": {},
     "output_type": "execute_result"
    }
   ],
   "source": [
    "joined.isna().sum()"
   ]
  },
  {
   "cell_type": "code",
   "execution_count": 14,
   "metadata": {},
   "outputs": [],
   "source": [
    "joined = joined.dropna()"
   ]
  },
  {
   "cell_type": "markdown",
   "metadata": {},
   "source": [
    "<h4>Writing output to CSV</h4>"
   ]
  },
  {
   "cell_type": "code",
   "execution_count": 15,
   "metadata": {},
   "outputs": [],
   "source": [
    "joined.to_csv('tri_bg.csv', index=False)  "
   ]
  },
  {
   "cell_type": "code",
   "execution_count": null,
   "metadata": {},
   "outputs": [],
   "source": []
  }
 ],
 "metadata": {
  "kernelspec": {
   "display_name": "Python 3",
   "language": "python",
   "name": "python3"
  },
  "language_info": {
   "codemirror_mode": {
    "name": "ipython",
    "version": 3
   },
   "file_extension": ".py",
   "mimetype": "text/x-python",
   "name": "python",
   "nbconvert_exporter": "python",
   "pygments_lexer": "ipython3",
   "version": "3.8.5"
  }
 },
 "nbformat": 4,
 "nbformat_minor": 4
}
