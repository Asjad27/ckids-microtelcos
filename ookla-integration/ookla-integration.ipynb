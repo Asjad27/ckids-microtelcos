{
 "cells": [
  {
   "cell_type": "markdown",
   "metadata": {},
   "source": [
    "<h4>Importing required libraries</h4>"
   ]
  },
  {
   "cell_type": "code",
   "execution_count": 19,
   "metadata": {},
   "outputs": [],
   "source": [
    "%matplotlib inline\n",
    "\n",
    "import geopandas \n",
    "import numpy as np\n",
    "import pandas as pd"
   ]
  },
  {
   "cell_type": "code",
   "execution_count": 2,
   "metadata": {},
   "outputs": [],
   "source": [
    "# https://ookla-open-data.s3-us-west-2.amazonaws.com/shapefiles/performance/type%3Dfixed/year%3D2020/quarter%3D4/2020-10-01_performance_fixed_tiles.zip"
   ]
  },
  {
   "cell_type": "markdown",
   "metadata": {},
   "source": [
    "<h4>Loading OOKLA shapefile</h4>"
   ]
  },
  {
   "cell_type": "code",
   "execution_count": 3,
   "metadata": {},
   "outputs": [],
   "source": [
    "ookla = geopandas.read_file(\"../../Data/ookla_CA.shp\")"
   ]
  },
  {
   "cell_type": "markdown",
   "metadata": {},
   "source": [
    "<h4>Taking a peek at the loaded data from shapefile</h4>"
   ]
  },
  {
   "cell_type": "code",
   "execution_count": 4,
   "metadata": {},
   "outputs": [
    {
     "data": {
      "text/html": [
       "<div>\n",
       "<style scoped>\n",
       "    .dataframe tbody tr th:only-of-type {\n",
       "        vertical-align: middle;\n",
       "    }\n",
       "\n",
       "    .dataframe tbody tr th {\n",
       "        vertical-align: top;\n",
       "    }\n",
       "\n",
       "    .dataframe thead th {\n",
       "        text-align: right;\n",
       "    }\n",
       "</style>\n",
       "<table border=\"1\" class=\"dataframe\">\n",
       "  <thead>\n",
       "    <tr style=\"text-align: right;\">\n",
       "      <th></th>\n",
       "      <th>quadkey</th>\n",
       "      <th>avg_d_kbps</th>\n",
       "      <th>avg_u_kbps</th>\n",
       "      <th>avg_lat_ms</th>\n",
       "      <th>tests</th>\n",
       "      <th>devices</th>\n",
       "      <th>Shape_Leng</th>\n",
       "      <th>Shape_Area</th>\n",
       "      <th>geometry</th>\n",
       "    </tr>\n",
       "  </thead>\n",
       "  <tbody>\n",
       "    <tr>\n",
       "      <th>0</th>\n",
       "      <td>0230102111211101</td>\n",
       "      <td>263676</td>\n",
       "      <td>12636</td>\n",
       "      <td>23</td>\n",
       "      <td>18</td>\n",
       "      <td>7</td>\n",
       "      <td>0.019562</td>\n",
       "      <td>0.000024</td>\n",
       "      <td>POLYGON ((-121.12976 38.68551, -121.12427 38.6...</td>\n",
       "    </tr>\n",
       "    <tr>\n",
       "      <th>1</th>\n",
       "      <td>0230102300200330</td>\n",
       "      <td>153768</td>\n",
       "      <td>20153</td>\n",
       "      <td>12</td>\n",
       "      <td>35</td>\n",
       "      <td>16</td>\n",
       "      <td>0.019696</td>\n",
       "      <td>0.000024</td>\n",
       "      <td>POLYGON ((-122.31079 37.55329, -122.30530 37.5...</td>\n",
       "    </tr>\n",
       "    <tr>\n",
       "      <th>2</th>\n",
       "      <td>0230132121003021</td>\n",
       "      <td>205705</td>\n",
       "      <td>18892</td>\n",
       "      <td>19</td>\n",
       "      <td>16</td>\n",
       "      <td>7</td>\n",
       "      <td>0.020129</td>\n",
       "      <td>0.000025</td>\n",
       "      <td>POLYGON ((-116.31775 33.67864, -116.31226 33.6...</td>\n",
       "    </tr>\n",
       "    <tr>\n",
       "      <th>3</th>\n",
       "      <td>0230102301102031</td>\n",
       "      <td>155128</td>\n",
       "      <td>15177</td>\n",
       "      <td>17</td>\n",
       "      <td>23</td>\n",
       "      <td>11</td>\n",
       "      <td>0.019682</td>\n",
       "      <td>0.000024</td>\n",
       "      <td>POLYGON ((-121.79993 37.67513, -121.79443 37.6...</td>\n",
       "    </tr>\n",
       "    <tr>\n",
       "      <th>4</th>\n",
       "      <td>0230102300313123</td>\n",
       "      <td>216943</td>\n",
       "      <td>141579</td>\n",
       "      <td>9</td>\n",
       "      <td>131</td>\n",
       "      <td>42</td>\n",
       "      <td>0.019699</td>\n",
       "      <td>0.000024</td>\n",
       "      <td>POLYGON ((-122.00867 37.53151, -122.00317 37.5...</td>\n",
       "    </tr>\n",
       "  </tbody>\n",
       "</table>\n",
       "</div>"
      ],
      "text/plain": [
       "            quadkey  avg_d_kbps  avg_u_kbps  avg_lat_ms  tests  devices  \\\n",
       "0  0230102111211101      263676       12636          23     18        7   \n",
       "1  0230102300200330      153768       20153          12     35       16   \n",
       "2  0230132121003021      205705       18892          19     16        7   \n",
       "3  0230102301102031      155128       15177          17     23       11   \n",
       "4  0230102300313123      216943      141579           9    131       42   \n",
       "\n",
       "   Shape_Leng  Shape_Area                                           geometry  \n",
       "0    0.019562    0.000024  POLYGON ((-121.12976 38.68551, -121.12427 38.6...  \n",
       "1    0.019696    0.000024  POLYGON ((-122.31079 37.55329, -122.30530 37.5...  \n",
       "2    0.020129    0.000025  POLYGON ((-116.31775 33.67864, -116.31226 33.6...  \n",
       "3    0.019682    0.000024  POLYGON ((-121.79993 37.67513, -121.79443 37.6...  \n",
       "4    0.019699    0.000024  POLYGON ((-122.00867 37.53151, -122.00317 37.5...  "
      ]
     },
     "execution_count": 4,
     "metadata": {},
     "output_type": "execute_result"
    }
   ],
   "source": [
    "ookla.head()"
   ]
  },
  {
   "cell_type": "markdown",
   "metadata": {},
   "source": [
    "<h4>Loading a visualization of the data to make sure the shapefile loaded correctly</h4>"
   ]
  },
  {
   "cell_type": "code",
   "execution_count": 5,
   "metadata": {},
   "outputs": [
    {
     "data": {
      "text/plain": [
       "<AxesSubplot:>"
      ]
     },
     "execution_count": 5,
     "metadata": {},
     "output_type": "execute_result"
    },
    {
     "data": {
      "image/png": "[encoded data removed]",
      "text/plain": [
       "<Figure size 432x288 with 1 Axes>"
      ]
     },
     "metadata": {
      "needs_background": "light"
     },
     "output_type": "display_data"
    }
   ],
   "source": [
    "ookla.plot()"
   ]
  },
  {
   "cell_type": "markdown",
   "metadata": {},
   "source": [
    "<h4>Loading Block Groups shapefile</h4>"
   ]
  },
  {
   "cell_type": "code",
   "execution_count": 6,
   "metadata": {},
   "outputs": [],
   "source": [
    "bg = geopandas.read_file(\"../../Data/tl_2020_06_bg.zip\")"
   ]
  },
  {
   "cell_type": "markdown",
   "metadata": {},
   "source": [
    "<h4>Taking a peek at the loaded block groups data</h4>"
   ]
  },
  {
   "cell_type": "code",
   "execution_count": 7,
   "metadata": {},
   "outputs": [
    {
     "data": {
      "text/html": [
       "<div>\n",
       "<style scoped>\n",
       "    .dataframe tbody tr th:only-of-type {\n",
       "        vertical-align: middle;\n",
       "    }\n",
       "\n",
       "    .dataframe tbody tr th {\n",
       "        vertical-align: top;\n",
       "    }\n",
       "\n",
       "    .dataframe thead th {\n",
       "        text-align: right;\n",
       "    }\n",
       "</style>\n",
       "<table border=\"1\" class=\"dataframe\">\n",
       "  <thead>\n",
       "    <tr style=\"text-align: right;\">\n",
       "      <th></th>\n",
       "      <th>STATEFP</th>\n",
       "      <th>COUNTYFP</th>\n",
       "      <th>TRACTCE</th>\n",
       "      <th>BLKGRPCE</th>\n",
       "      <th>GEOID</th>\n",
       "      <th>NAMELSAD</th>\n",
       "      <th>MTFCC</th>\n",
       "      <th>FUNCSTAT</th>\n",
       "      <th>ALAND</th>\n",
       "      <th>AWATER</th>\n",
       "      <th>INTPTLAT</th>\n",
       "      <th>INTPTLON</th>\n",
       "      <th>geometry</th>\n",
       "    </tr>\n",
       "  </thead>\n",
       "  <tbody>\n",
       "    <tr>\n",
       "      <th>0</th>\n",
       "      <td>06</td>\n",
       "      <td>053</td>\n",
       "      <td>001500</td>\n",
       "      <td>1</td>\n",
       "      <td>060530015001</td>\n",
       "      <td>Block Group 1</td>\n",
       "      <td>G5030</td>\n",
       "      <td>S</td>\n",
       "      <td>3348560</td>\n",
       "      <td>0</td>\n",
       "      <td>+36.6564570</td>\n",
       "      <td>-121.6749086</td>\n",
       "      <td>POLYGON ((-121.69184 36.65885, -121.68510 36.6...</td>\n",
       "    </tr>\n",
       "    <tr>\n",
       "      <th>1</th>\n",
       "      <td>06</td>\n",
       "      <td>073</td>\n",
       "      <td>002712</td>\n",
       "      <td>2</td>\n",
       "      <td>060730027122</td>\n",
       "      <td>Block Group 2</td>\n",
       "      <td>G5030</td>\n",
       "      <td>S</td>\n",
       "      <td>337744</td>\n",
       "      <td>0</td>\n",
       "      <td>+32.7303521</td>\n",
       "      <td>-117.0787620</td>\n",
       "      <td>POLYGON ((-117.08306 32.72588, -117.08280 32.7...</td>\n",
       "    </tr>\n",
       "    <tr>\n",
       "      <th>2</th>\n",
       "      <td>06</td>\n",
       "      <td>073</td>\n",
       "      <td>018601</td>\n",
       "      <td>2</td>\n",
       "      <td>060730186012</td>\n",
       "      <td>Block Group 2</td>\n",
       "      <td>G5030</td>\n",
       "      <td>S</td>\n",
       "      <td>886725</td>\n",
       "      <td>0</td>\n",
       "      <td>+33.2295683</td>\n",
       "      <td>-117.3482855</td>\n",
       "      <td>POLYGON ((-117.35296 33.22489, -117.35294 33.2...</td>\n",
       "    </tr>\n",
       "    <tr>\n",
       "      <th>3</th>\n",
       "      <td>06</td>\n",
       "      <td>073</td>\n",
       "      <td>018609</td>\n",
       "      <td>3</td>\n",
       "      <td>060730186093</td>\n",
       "      <td>Block Group 3</td>\n",
       "      <td>G5030</td>\n",
       "      <td>S</td>\n",
       "      <td>379311</td>\n",
       "      <td>0</td>\n",
       "      <td>+33.2495250</td>\n",
       "      <td>-117.3148675</td>\n",
       "      <td>POLYGON ((-117.31819 33.25084, -117.31819 33.2...</td>\n",
       "    </tr>\n",
       "    <tr>\n",
       "      <th>4</th>\n",
       "      <td>06</td>\n",
       "      <td>073</td>\n",
       "      <td>019406</td>\n",
       "      <td>3</td>\n",
       "      <td>060730194063</td>\n",
       "      <td>Block Group 3</td>\n",
       "      <td>G5030</td>\n",
       "      <td>S</td>\n",
       "      <td>649440</td>\n",
       "      <td>0</td>\n",
       "      <td>+33.2018708</td>\n",
       "      <td>-117.2686502</td>\n",
       "      <td>POLYGON ((-117.27370 33.19762, -117.27367 33.1...</td>\n",
       "    </tr>\n",
       "  </tbody>\n",
       "</table>\n",
       "</div>"
      ],
      "text/plain": [
       "  STATEFP COUNTYFP TRACTCE BLKGRPCE         GEOID       NAMELSAD  MTFCC  \\\n",
       "0      06      053  001500        1  060530015001  Block Group 1  G5030   \n",
       "1      06      073  002712        2  060730027122  Block Group 2  G5030   \n",
       "2      06      073  018601        2  060730186012  Block Group 2  G5030   \n",
       "3      06      073  018609        3  060730186093  Block Group 3  G5030   \n",
       "4      06      073  019406        3  060730194063  Block Group 3  G5030   \n",
       "\n",
       "  FUNCSTAT    ALAND  AWATER     INTPTLAT      INTPTLON  \\\n",
       "0        S  3348560       0  +36.6564570  -121.6749086   \n",
       "1        S   337744       0  +32.7303521  -117.0787620   \n",
       "2        S   886725       0  +33.2295683  -117.3482855   \n",
       "3        S   379311       0  +33.2495250  -117.3148675   \n",
       "4        S   649440       0  +33.2018708  -117.2686502   \n",
       "\n",
       "                                            geometry  \n",
       "0  POLYGON ((-121.69184 36.65885, -121.68510 36.6...  \n",
       "1  POLYGON ((-117.08306 32.72588, -117.08280 32.7...  \n",
       "2  POLYGON ((-117.35296 33.22489, -117.35294 33.2...  \n",
       "3  POLYGON ((-117.31819 33.25084, -117.31819 33.2...  \n",
       "4  POLYGON ((-117.27370 33.19762, -117.27367 33.1...  "
      ]
     },
     "execution_count": 7,
     "metadata": {},
     "output_type": "execute_result"
    }
   ],
   "source": [
    "bg.head()"
   ]
  },
  {
   "cell_type": "markdown",
   "metadata": {},
   "source": [
    "<h4>Checking coordinate system of both datasets</h4>"
   ]
  },
  {
   "cell_type": "code",
   "execution_count": 8,
   "metadata": {},
   "outputs": [
    {
     "name": "stdout",
     "output_type": "stream",
     "text": [
      "epsg:4269\n",
      "epsg:4326\n"
     ]
    }
   ],
   "source": [
    "print(bg.crs)\n",
    "print(ookla.crs)"
   ]
  },
  {
   "cell_type": "markdown",
   "metadata": {},
   "source": [
    "<h4>Checking bounds of both datasets</h4>"
   ]
  },
  {
   "cell_type": "code",
   "execution_count": 9,
   "metadata": {},
   "outputs": [
    {
     "name": "stdout",
     "output_type": "stream",
     "text": [
      "[-124.35424805   32.53292068 -114.12597656   42.00440721]\n",
      "[-124.482003   32.528832 -114.131211   42.009503]\n"
     ]
    }
   ],
   "source": [
    "print(ookla.total_bounds)\n",
    "print(bg.total_bounds)"
   ]
  },
  {
   "cell_type": "markdown",
   "metadata": {},
   "source": [
    "<h4>Bringing both datasets to same coordinate system</h4>"
   ]
  },
  {
   "cell_type": "code",
   "execution_count": 10,
   "metadata": {},
   "outputs": [],
   "source": [
    "bg = bg.to_crs(4326)"
   ]
  },
  {
   "cell_type": "markdown",
   "metadata": {},
   "source": [
    "<h4>Verifying coordinate system change</h4>"
   ]
  },
  {
   "cell_type": "code",
   "execution_count": 11,
   "metadata": {},
   "outputs": [
    {
     "name": "stdout",
     "output_type": "stream",
     "text": [
      "epsg:4326\n",
      "epsg:4326\n"
     ]
    }
   ],
   "source": [
    "print(bg.crs)\n",
    "print(ookla.crs)"
   ]
  },
  {
   "cell_type": "markdown",
   "metadata": {},
   "source": [
    "<h4>Checking bounds of both datasets after coordinate system change</h4>"
   ]
  },
  {
   "cell_type": "code",
   "execution_count": 12,
   "metadata": {},
   "outputs": [
    {
     "name": "stdout",
     "output_type": "stream",
     "text": [
      "[-124.35424805   32.53292068 -114.12597656   42.00440721]\n",
      "[-124.482003   32.528832 -114.131211   42.009503]\n"
     ]
    }
   ],
   "source": [
    "print(ookla.total_bounds)\n",
    "print(bg.total_bounds)"
   ]
  },
  {
   "cell_type": "markdown",
   "metadata": {},
   "source": [
    "<h4>Performing spatial join of ookla data with block groups using intersect operation</h4>"
   ]
  },
  {
   "cell_type": "code",
   "execution_count": 13,
   "metadata": {},
   "outputs": [],
   "source": [
    "joined = geopandas.sjoin(ookla, bg, how=\"right\", op='intersects')"
   ]
  },
  {
   "cell_type": "markdown",
   "metadata": {},
   "source": [
    "<h4>Peeking at the top rows of the joined data</h4>"
   ]
  },
  {
   "cell_type": "code",
   "execution_count": 14,
   "metadata": {},
   "outputs": [
    {
     "data": {
      "text/html": [
       "<div>\n",
       "<style scoped>\n",
       "    .dataframe tbody tr th:only-of-type {\n",
       "        vertical-align: middle;\n",
       "    }\n",
       "\n",
       "    .dataframe tbody tr th {\n",
       "        vertical-align: top;\n",
       "    }\n",
       "\n",
       "    .dataframe thead th {\n",
       "        text-align: right;\n",
       "    }\n",
       "</style>\n",
       "<table border=\"1\" class=\"dataframe\">\n",
       "  <thead>\n",
       "    <tr style=\"text-align: right;\">\n",
       "      <th></th>\n",
       "      <th>index_left</th>\n",
       "      <th>quadkey</th>\n",
       "      <th>avg_d_kbps</th>\n",
       "      <th>avg_u_kbps</th>\n",
       "      <th>avg_lat_ms</th>\n",
       "      <th>tests</th>\n",
       "      <th>devices</th>\n",
       "      <th>Shape_Leng</th>\n",
       "      <th>Shape_Area</th>\n",
       "      <th>STATEFP</th>\n",
       "      <th>...</th>\n",
       "      <th>BLKGRPCE</th>\n",
       "      <th>GEOID</th>\n",
       "      <th>NAMELSAD</th>\n",
       "      <th>MTFCC</th>\n",
       "      <th>FUNCSTAT</th>\n",
       "      <th>ALAND</th>\n",
       "      <th>AWATER</th>\n",
       "      <th>INTPTLAT</th>\n",
       "      <th>INTPTLON</th>\n",
       "      <th>geometry</th>\n",
       "    </tr>\n",
       "  </thead>\n",
       "  <tbody>\n",
       "    <tr>\n",
       "      <th>0</th>\n",
       "      <td>6781.0</td>\n",
       "      <td>0230102323331001</td>\n",
       "      <td>197881.0</td>\n",
       "      <td>12568.0</td>\n",
       "      <td>17.0</td>\n",
       "      <td>37.0</td>\n",
       "      <td>16.0</td>\n",
       "      <td>0.019799</td>\n",
       "      <td>0.000024</td>\n",
       "      <td>06</td>\n",
       "      <td>...</td>\n",
       "      <td>1</td>\n",
       "      <td>060530015001</td>\n",
       "      <td>Block Group 1</td>\n",
       "      <td>G5030</td>\n",
       "      <td>S</td>\n",
       "      <td>3348560</td>\n",
       "      <td>0</td>\n",
       "      <td>+36.6564570</td>\n",
       "      <td>-121.6749086</td>\n",
       "      <td>POLYGON ((-121.69184 36.65885, -121.68510 36.6...</td>\n",
       "    </tr>\n",
       "    <tr>\n",
       "      <th>0</th>\n",
       "      <td>16156.0</td>\n",
       "      <td>0230102323331021</td>\n",
       "      <td>61848.0</td>\n",
       "      <td>11742.0</td>\n",
       "      <td>31.0</td>\n",
       "      <td>2.0</td>\n",
       "      <td>1.0</td>\n",
       "      <td>0.019800</td>\n",
       "      <td>0.000024</td>\n",
       "      <td>06</td>\n",
       "      <td>...</td>\n",
       "      <td>1</td>\n",
       "      <td>060530015001</td>\n",
       "      <td>Block Group 1</td>\n",
       "      <td>G5030</td>\n",
       "      <td>S</td>\n",
       "      <td>3348560</td>\n",
       "      <td>0</td>\n",
       "      <td>+36.6564570</td>\n",
       "      <td>-121.6749086</td>\n",
       "      <td>POLYGON ((-121.69184 36.65885, -121.68510 36.6...</td>\n",
       "    </tr>\n",
       "    <tr>\n",
       "      <th>0</th>\n",
       "      <td>29544.0</td>\n",
       "      <td>0230102323331030</td>\n",
       "      <td>127763.0</td>\n",
       "      <td>10933.0</td>\n",
       "      <td>18.0</td>\n",
       "      <td>210.0</td>\n",
       "      <td>16.0</td>\n",
       "      <td>0.019800</td>\n",
       "      <td>0.000024</td>\n",
       "      <td>06</td>\n",
       "      <td>...</td>\n",
       "      <td>1</td>\n",
       "      <td>060530015001</td>\n",
       "      <td>Block Group 1</td>\n",
       "      <td>G5030</td>\n",
       "      <td>S</td>\n",
       "      <td>3348560</td>\n",
       "      <td>0</td>\n",
       "      <td>+36.6564570</td>\n",
       "      <td>-121.6749086</td>\n",
       "      <td>POLYGON ((-121.69184 36.65885, -121.68510 36.6...</td>\n",
       "    </tr>\n",
       "    <tr>\n",
       "      <th>0</th>\n",
       "      <td>36083.0</td>\n",
       "      <td>0230102323331012</td>\n",
       "      <td>202328.0</td>\n",
       "      <td>14689.0</td>\n",
       "      <td>20.0</td>\n",
       "      <td>13.0</td>\n",
       "      <td>7.0</td>\n",
       "      <td>0.019799</td>\n",
       "      <td>0.000024</td>\n",
       "      <td>06</td>\n",
       "      <td>...</td>\n",
       "      <td>1</td>\n",
       "      <td>060530015001</td>\n",
       "      <td>Block Group 1</td>\n",
       "      <td>G5030</td>\n",
       "      <td>S</td>\n",
       "      <td>3348560</td>\n",
       "      <td>0</td>\n",
       "      <td>+36.6564570</td>\n",
       "      <td>-121.6749086</td>\n",
       "      <td>POLYGON ((-121.69184 36.65885, -121.68510 36.6...</td>\n",
       "    </tr>\n",
       "    <tr>\n",
       "      <th>0</th>\n",
       "      <td>39464.0</td>\n",
       "      <td>0230102323331013</td>\n",
       "      <td>230257.0</td>\n",
       "      <td>16783.0</td>\n",
       "      <td>14.0</td>\n",
       "      <td>137.0</td>\n",
       "      <td>21.0</td>\n",
       "      <td>0.019799</td>\n",
       "      <td>0.000024</td>\n",
       "      <td>06</td>\n",
       "      <td>...</td>\n",
       "      <td>1</td>\n",
       "      <td>060530015001</td>\n",
       "      <td>Block Group 1</td>\n",
       "      <td>G5030</td>\n",
       "      <td>S</td>\n",
       "      <td>3348560</td>\n",
       "      <td>0</td>\n",
       "      <td>+36.6564570</td>\n",
       "      <td>-121.6749086</td>\n",
       "      <td>POLYGON ((-121.69184 36.65885, -121.68510 36.6...</td>\n",
       "    </tr>\n",
       "  </tbody>\n",
       "</table>\n",
       "<p>5 rows × 22 columns</p>\n",
       "</div>"
      ],
      "text/plain": [
       "   index_left           quadkey  avg_d_kbps  avg_u_kbps  avg_lat_ms  tests  \\\n",
       "0      6781.0  0230102323331001    197881.0     12568.0        17.0   37.0   \n",
       "0     16156.0  0230102323331021     61848.0     11742.0        31.0    2.0   \n",
       "0     29544.0  0230102323331030    127763.0     10933.0        18.0  210.0   \n",
       "0     36083.0  0230102323331012    202328.0     14689.0        20.0   13.0   \n",
       "0     39464.0  0230102323331013    230257.0     16783.0        14.0  137.0   \n",
       "\n",
       "   devices  Shape_Leng  Shape_Area STATEFP  ... BLKGRPCE         GEOID  \\\n",
       "0     16.0    0.019799    0.000024      06  ...        1  060530015001   \n",
       "0      1.0    0.019800    0.000024      06  ...        1  060530015001   \n",
       "0     16.0    0.019800    0.000024      06  ...        1  060530015001   \n",
       "0      7.0    0.019799    0.000024      06  ...        1  060530015001   \n",
       "0     21.0    0.019799    0.000024      06  ...        1  060530015001   \n",
       "\n",
       "        NAMELSAD  MTFCC FUNCSTAT    ALAND AWATER     INTPTLAT      INTPTLON  \\\n",
       "0  Block Group 1  G5030        S  3348560      0  +36.6564570  -121.6749086   \n",
       "0  Block Group 1  G5030        S  3348560      0  +36.6564570  -121.6749086   \n",
       "0  Block Group 1  G5030        S  3348560      0  +36.6564570  -121.6749086   \n",
       "0  Block Group 1  G5030        S  3348560      0  +36.6564570  -121.6749086   \n",
       "0  Block Group 1  G5030        S  3348560      0  +36.6564570  -121.6749086   \n",
       "\n",
       "                                            geometry  \n",
       "0  POLYGON ((-121.69184 36.65885, -121.68510 36.6...  \n",
       "0  POLYGON ((-121.69184 36.65885, -121.68510 36.6...  \n",
       "0  POLYGON ((-121.69184 36.65885, -121.68510 36.6...  \n",
       "0  POLYGON ((-121.69184 36.65885, -121.68510 36.6...  \n",
       "0  POLYGON ((-121.69184 36.65885, -121.68510 36.6...  \n",
       "\n",
       "[5 rows x 22 columns]"
      ]
     },
     "execution_count": 14,
     "metadata": {},
     "output_type": "execute_result"
    }
   ],
   "source": [
    "joined.head()"
   ]
  },
  {
   "cell_type": "markdown",
   "metadata": {},
   "source": [
    "<h4>Calculating weighted (by devices) means of download speeds, upload speeds, and latency</h4>"
   ]
  },
  {
   "cell_type": "code",
   "execution_count": 15,
   "metadata": {},
   "outputs": [],
   "source": [
    "bg_stats = (\n",
    "    joined.groupby([\"GEOID\"])\n",
    "    .apply(\n",
    "        lambda x: pd.Series(\n",
    "            {\"avg_d_kbps_wt\": np.average(x[\"avg_d_kbps\"], weights=x[\"devices\"])}\n",
    "        )\n",
    "    )\n",
    "    .reset_index()\n",
    "    .merge(\n",
    "        joined.groupby([\"GEOID\"])\n",
    "        .apply(\n",
    "            lambda x: pd.Series(\n",
    "                {\"avg_u_kbps_wt\": np.average(x[\"avg_u_kbps\"], weights=x[\"devices\"])}\n",
    "            )\n",
    "        ).reset_index(),\n",
    "        on=[\"GEOID\"],\n",
    "    )\n",
    "    .merge(\n",
    "        joined.groupby([\"GEOID\"])\n",
    "        .apply(\n",
    "            lambda x: pd.Series(\n",
    "                {\"avg_lat_ms_wt\": np.average(x[\"avg_lat_ms\"], weights=x[\"devices\"])}\n",
    "            )\n",
    "        ).reset_index(),\n",
    "        on=[\"GEOID\"],\n",
    "    )\n",
    "    .merge(\n",
    "        joined.groupby([\"GEOID\"])\n",
    "        .agg(devices=(\"devices\", \"sum\"))\n",
    "        .reset_index(),\n",
    "        on=[\"GEOID\"],\n",
    "    )\n",
    "    .reset_index()\n",
    "    .merge(\n",
    "        joined.groupby([\"GEOID\"])\n",
    "        .agg(tests=(\"tests\", \"sum\"))\n",
    "        .reset_index(),\n",
    "        on=[\"GEOID\"],\n",
    "    )\n",
    ")"
   ]
  },
  {
   "cell_type": "markdown",
   "metadata": {},
   "source": [
    "<h4>Peeking at the top rows of the final calculated statistics</h4>"
   ]
  },
  {
   "cell_type": "code",
   "execution_count": 16,
   "metadata": {},
   "outputs": [
    {
     "data": {
      "text/html": [
       "<div>\n",
       "<style scoped>\n",
       "    .dataframe tbody tr th:only-of-type {\n",
       "        vertical-align: middle;\n",
       "    }\n",
       "\n",
       "    .dataframe tbody tr th {\n",
       "        vertical-align: top;\n",
       "    }\n",
       "\n",
       "    .dataframe thead th {\n",
       "        text-align: right;\n",
       "    }\n",
       "</style>\n",
       "<table border=\"1\" class=\"dataframe\">\n",
       "  <thead>\n",
       "    <tr style=\"text-align: right;\">\n",
       "      <th></th>\n",
       "      <th>index</th>\n",
       "      <th>GEOID</th>\n",
       "      <th>avg_d_kbps_wt</th>\n",
       "      <th>avg_u_kbps_wt</th>\n",
       "      <th>avg_lat_ms_wt</th>\n",
       "      <th>devices</th>\n",
       "      <th>tests</th>\n",
       "    </tr>\n",
       "  </thead>\n",
       "  <tbody>\n",
       "    <tr>\n",
       "      <th>0</th>\n",
       "      <td>0</td>\n",
       "      <td>060014001001</td>\n",
       "      <td>173500.691667</td>\n",
       "      <td>74645.195833</td>\n",
       "      <td>14.562500</td>\n",
       "      <td>240.0</td>\n",
       "      <td>1048.0</td>\n",
       "    </tr>\n",
       "    <tr>\n",
       "      <th>1</th>\n",
       "      <td>1</td>\n",
       "      <td>060014001002</td>\n",
       "      <td>184744.985507</td>\n",
       "      <td>70918.586957</td>\n",
       "      <td>20.326087</td>\n",
       "      <td>138.0</td>\n",
       "      <td>754.0</td>\n",
       "    </tr>\n",
       "    <tr>\n",
       "      <th>2</th>\n",
       "      <td>2</td>\n",
       "      <td>060014002001</td>\n",
       "      <td>158106.223214</td>\n",
       "      <td>105323.285714</td>\n",
       "      <td>9.517857</td>\n",
       "      <td>112.0</td>\n",
       "      <td>645.0</td>\n",
       "    </tr>\n",
       "    <tr>\n",
       "      <th>3</th>\n",
       "      <td>3</td>\n",
       "      <td>060014002002</td>\n",
       "      <td>151896.467005</td>\n",
       "      <td>91971.639594</td>\n",
       "      <td>10.923858</td>\n",
       "      <td>197.0</td>\n",
       "      <td>839.0</td>\n",
       "    </tr>\n",
       "    <tr>\n",
       "      <th>4</th>\n",
       "      <td>4</td>\n",
       "      <td>060014003001</td>\n",
       "      <td>168247.950617</td>\n",
       "      <td>94049.549383</td>\n",
       "      <td>12.067901</td>\n",
       "      <td>162.0</td>\n",
       "      <td>641.0</td>\n",
       "    </tr>\n",
       "  </tbody>\n",
       "</table>\n",
       "</div>"
      ],
      "text/plain": [
       "   index         GEOID  avg_d_kbps_wt  avg_u_kbps_wt  avg_lat_ms_wt  devices  \\\n",
       "0      0  060014001001  173500.691667   74645.195833      14.562500    240.0   \n",
       "1      1  060014001002  184744.985507   70918.586957      20.326087    138.0   \n",
       "2      2  060014002001  158106.223214  105323.285714       9.517857    112.0   \n",
       "3      3  060014002002  151896.467005   91971.639594      10.923858    197.0   \n",
       "4      4  060014003001  168247.950617   94049.549383      12.067901    162.0   \n",
       "\n",
       "    tests  \n",
       "0  1048.0  \n",
       "1   754.0  \n",
       "2   645.0  \n",
       "3   839.0  \n",
       "4   641.0  "
      ]
     },
     "execution_count": 16,
     "metadata": {},
     "output_type": "execute_result"
    }
   ],
   "source": [
    "bg_stats.head()"
   ]
  },
  {
   "cell_type": "markdown",
   "metadata": {},
   "source": [
    "<h4>Checking how many block groups have no ookla data</h4>"
   ]
  },
  {
   "cell_type": "code",
   "execution_count": 17,
   "metadata": {},
   "outputs": [
    {
     "data": {
      "text/plain": [
       "index             0\n",
       "GEOID             0\n",
       "avg_d_kbps_wt    23\n",
       "avg_u_kbps_wt    23\n",
       "avg_lat_ms_wt    23\n",
       "devices           0\n",
       "tests             0\n",
       "dtype: int64"
      ]
     },
     "execution_count": 17,
     "metadata": {},
     "output_type": "execute_result"
    }
   ],
   "source": [
    "bg_stats.isna().sum()"
   ]
  },
  {
   "cell_type": "markdown",
   "metadata": {},
   "source": [
    "<h4>Writing output to CSV</h4>"
   ]
  },
  {
   "cell_type": "code",
   "execution_count": 18,
   "metadata": {},
   "outputs": [],
   "source": [
    "bg_stats.to_csv('ookla_bg.csv', index=False)  "
   ]
  },
  {
   "cell_type": "code",
   "execution_count": null,
   "metadata": {},
   "outputs": [],
   "source": []
  }
 ],
 "metadata": {
  "kernelspec": {
   "display_name": "Python 3",
   "language": "python",
   "name": "python3"
  },
  "language_info": {
   "codemirror_mode": {
    "name": "ipython",
    "version": 3
   },
   "file_extension": ".py",
   "mimetype": "text/x-python",
   "name": "python",
   "nbconvert_exporter": "python",
   "pygments_lexer": "ipython3",
   "version": "3.8.5"
  }
 },
 "nbformat": 4,
 "nbformat_minor": 4
}
