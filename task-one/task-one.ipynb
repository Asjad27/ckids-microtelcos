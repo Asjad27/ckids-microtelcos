{
 "cells": [
  {
   "cell_type": "markdown",
   "metadata": {},
   "source": [
    "<h4>Importing required libraries</h4>"
   ]
  },
  {
   "cell_type": "code",
   "execution_count": 1,
   "metadata": {},
   "outputs": [],
   "source": [
    "import geopandas\n",
    "import pandas"
   ]
  },
  {
   "cell_type": "markdown",
   "metadata": {},
   "source": [
    "<h4>Loading consumer deployment shapefile</h4>"
   ]
  },
  {
   "cell_type": "code",
   "execution_count": 2,
   "metadata": {},
   "outputs": [],
   "source": [
    "consumer_deployment = geopandas.read_file(\"../../Data/Fixed_Consumer_Deployment_2020.shp\")"
   ]
  },
  {
   "cell_type": "markdown",
   "metadata": {},
   "source": [
    "<h4>Taking a peek at the loaded data from shapefile</h4>"
   ]
  },
  {
   "cell_type": "code",
   "execution_count": 3,
   "metadata": {},
   "outputs": [
    {
     "data": {
      "text/html": [
       "<div>\n",
       "<style scoped>\n",
       "    .dataframe tbody tr th:only-of-type {\n",
       "        vertical-align: middle;\n",
       "    }\n",
       "\n",
       "    .dataframe tbody tr th {\n",
       "        vertical-align: top;\n",
       "    }\n",
       "\n",
       "    .dataframe thead th {\n",
       "        text-align: right;\n",
       "    }\n",
       "</style>\n",
       "<table border=\"1\" class=\"dataframe\">\n",
       "  <thead>\n",
       "    <tr style=\"text-align: right;\">\n",
       "      <th></th>\n",
       "      <th>OBJECTID</th>\n",
       "      <th>BlockCode</th>\n",
       "      <th>DBA</th>\n",
       "      <th>FRN</th>\n",
       "      <th>TechCode</th>\n",
       "      <th>Consumer</th>\n",
       "      <th>MaxAdDn</th>\n",
       "      <th>MaxAdUp</th>\n",
       "      <th>MaxDnTier</th>\n",
       "      <th>MaxUpTier</th>\n",
       "      <th>Shape_Leng</th>\n",
       "      <th>Shape_Area</th>\n",
       "      <th>BlockCodeI</th>\n",
       "      <th>bci</th>\n",
       "      <th>geometry</th>\n",
       "    </tr>\n",
       "  </thead>\n",
       "  <tbody>\n",
       "    <tr>\n",
       "      <th>0</th>\n",
       "      <td>1</td>\n",
       "      <td>060230101023137</td>\n",
       "      <td>Aan Chuuphan</td>\n",
       "      <td>0000830321</td>\n",
       "      <td>70</td>\n",
       "      <td>1</td>\n",
       "      <td>3.2</td>\n",
       "      <td>1.0</td>\n",
       "      <td>5</td>\n",
       "      <td>4</td>\n",
       "      <td>0.007143</td>\n",
       "      <td>0.000002</td>\n",
       "      <td>0.0</td>\n",
       "      <td>NaN</td>\n",
       "      <td>POLYGON ((-123.54205 41.30081, -123.54134 41.3...</td>\n",
       "    </tr>\n",
       "    <tr>\n",
       "      <th>1</th>\n",
       "      <td>2</td>\n",
       "      <td>060230101023139</td>\n",
       "      <td>Aan Chuuphan</td>\n",
       "      <td>0000830321</td>\n",
       "      <td>70</td>\n",
       "      <td>1</td>\n",
       "      <td>3.2</td>\n",
       "      <td>1.0</td>\n",
       "      <td>5</td>\n",
       "      <td>4</td>\n",
       "      <td>0.011008</td>\n",
       "      <td>0.000004</td>\n",
       "      <td>0.0</td>\n",
       "      <td>NaN</td>\n",
       "      <td>POLYGON ((-123.53944 41.30202, -123.53927 41.3...</td>\n",
       "    </tr>\n",
       "    <tr>\n",
       "      <th>2</th>\n",
       "      <td>3</td>\n",
       "      <td>060230101023141</td>\n",
       "      <td>Aan Chuuphan</td>\n",
       "      <td>0000830321</td>\n",
       "      <td>70</td>\n",
       "      <td>1</td>\n",
       "      <td>3.2</td>\n",
       "      <td>1.0</td>\n",
       "      <td>5</td>\n",
       "      <td>4</td>\n",
       "      <td>0.004968</td>\n",
       "      <td>0.000001</td>\n",
       "      <td>0.0</td>\n",
       "      <td>NaN</td>\n",
       "      <td>POLYGON ((-123.53345 41.30451, -123.53284 41.3...</td>\n",
       "    </tr>\n",
       "    <tr>\n",
       "      <th>3</th>\n",
       "      <td>4</td>\n",
       "      <td>060230101023154</td>\n",
       "      <td>Aan Chuuphan</td>\n",
       "      <td>0000830321</td>\n",
       "      <td>70</td>\n",
       "      <td>1</td>\n",
       "      <td>3.2</td>\n",
       "      <td>1.0</td>\n",
       "      <td>5</td>\n",
       "      <td>4</td>\n",
       "      <td>0.046302</td>\n",
       "      <td>0.000092</td>\n",
       "      <td>0.0</td>\n",
       "      <td>NaN</td>\n",
       "      <td>POLYGON ((-123.52104 41.31352, -123.50795 41.3...</td>\n",
       "    </tr>\n",
       "    <tr>\n",
       "      <th>4</th>\n",
       "      <td>5</td>\n",
       "      <td>060230101023155</td>\n",
       "      <td>Aan Chuuphan</td>\n",
       "      <td>0000830321</td>\n",
       "      <td>70</td>\n",
       "      <td>1</td>\n",
       "      <td>3.2</td>\n",
       "      <td>1.0</td>\n",
       "      <td>5</td>\n",
       "      <td>4</td>\n",
       "      <td>0.209417</td>\n",
       "      <td>0.000656</td>\n",
       "      <td>0.0</td>\n",
       "      <td>NaN</td>\n",
       "      <td>POLYGON ((-123.52727 41.29627, -123.52409 41.2...</td>\n",
       "    </tr>\n",
       "  </tbody>\n",
       "</table>\n",
       "</div>"
      ],
      "text/plain": [
       "   OBJECTID        BlockCode           DBA         FRN  TechCode  Consumer  \\\n",
       "0         1  060230101023137  Aan Chuuphan  0000830321        70         1   \n",
       "1         2  060230101023139  Aan Chuuphan  0000830321        70         1   \n",
       "2         3  060230101023141  Aan Chuuphan  0000830321        70         1   \n",
       "3         4  060230101023154  Aan Chuuphan  0000830321        70         1   \n",
       "4         5  060230101023155  Aan Chuuphan  0000830321        70         1   \n",
       "\n",
       "   MaxAdDn  MaxAdUp  MaxDnTier  MaxUpTier  Shape_Leng  Shape_Area  BlockCodeI  \\\n",
       "0      3.2      1.0          5          4    0.007143    0.000002         0.0   \n",
       "1      3.2      1.0          5          4    0.011008    0.000004         0.0   \n",
       "2      3.2      1.0          5          4    0.004968    0.000001         0.0   \n",
       "3      3.2      1.0          5          4    0.046302    0.000092         0.0   \n",
       "4      3.2      1.0          5          4    0.209417    0.000656         0.0   \n",
       "\n",
       "   bci                                           geometry  \n",
       "0  NaN  POLYGON ((-123.54205 41.30081, -123.54134 41.3...  \n",
       "1  NaN  POLYGON ((-123.53944 41.30202, -123.53927 41.3...  \n",
       "2  NaN  POLYGON ((-123.53345 41.30451, -123.53284 41.3...  \n",
       "3  NaN  POLYGON ((-123.52104 41.31352, -123.50795 41.3...  \n",
       "4  NaN  POLYGON ((-123.52727 41.29627, -123.52409 41.2...  "
      ]
     },
     "execution_count": 3,
     "metadata": {},
     "output_type": "execute_result"
    }
   ],
   "source": [
    "consumer_deployment.head()"
   ]
  },
  {
   "cell_type": "markdown",
   "metadata": {},
   "source": [
    "<h4>Loading a visualization of the data to make sure the shapefile loaded correctly</h4>"
   ]
  },
  {
   "cell_type": "code",
   "execution_count": 4,
   "metadata": {},
   "outputs": [
    {
     "data": {
      "text/plain": [
       "<AxesSubplot:>"
      ]
     },
     "execution_count": 4,
     "metadata": {},
     "output_type": "execute_result"
    },
    {
     "data": {
      "image/png": "[encoded data removed]",
      "text/plain": [
       "<Figure size 432x288 with 1 Axes>"
      ]
     },
     "metadata": {
      "needs_background": "light"
     },
     "output_type": "display_data"
    }
   ],
   "source": [
    "consumer_deployment.plot()"
   ]
  },
  {
   "cell_type": "markdown",
   "metadata": {},
   "source": [
    "<h4>Filtering the data to include only two columns, BlockCode and DBA</h4>"
   ]
  },
  {
   "cell_type": "code",
   "execution_count": 5,
   "metadata": {},
   "outputs": [],
   "source": [
    "isps = consumer_deployment.filter(['BlockCode','DBA'], axis=1)"
   ]
  },
  {
   "cell_type": "markdown",
   "metadata": {},
   "source": [
    "<h4>Taking a peek at the filtered ISP data</h4>"
   ]
  },
  {
   "cell_type": "code",
   "execution_count": 6,
   "metadata": {},
   "outputs": [
    {
     "data": {
      "text/html": [
       "<div>\n",
       "<style scoped>\n",
       "    .dataframe tbody tr th:only-of-type {\n",
       "        vertical-align: middle;\n",
       "    }\n",
       "\n",
       "    .dataframe tbody tr th {\n",
       "        vertical-align: top;\n",
       "    }\n",
       "\n",
       "    .dataframe thead th {\n",
       "        text-align: right;\n",
       "    }\n",
       "</style>\n",
       "<table border=\"1\" class=\"dataframe\">\n",
       "  <thead>\n",
       "    <tr style=\"text-align: right;\">\n",
       "      <th></th>\n",
       "      <th>BlockCode</th>\n",
       "      <th>DBA</th>\n",
       "    </tr>\n",
       "  </thead>\n",
       "  <tbody>\n",
       "    <tr>\n",
       "      <th>0</th>\n",
       "      <td>060230101023137</td>\n",
       "      <td>Aan Chuuphan</td>\n",
       "    </tr>\n",
       "    <tr>\n",
       "      <th>1</th>\n",
       "      <td>060230101023139</td>\n",
       "      <td>Aan Chuuphan</td>\n",
       "    </tr>\n",
       "    <tr>\n",
       "      <th>2</th>\n",
       "      <td>060230101023141</td>\n",
       "      <td>Aan Chuuphan</td>\n",
       "    </tr>\n",
       "    <tr>\n",
       "      <th>3</th>\n",
       "      <td>060230101023154</td>\n",
       "      <td>Aan Chuuphan</td>\n",
       "    </tr>\n",
       "    <tr>\n",
       "      <th>4</th>\n",
       "      <td>060230101023155</td>\n",
       "      <td>Aan Chuuphan</td>\n",
       "    </tr>\n",
       "  </tbody>\n",
       "</table>\n",
       "</div>"
      ],
      "text/plain": [
       "         BlockCode           DBA\n",
       "0  060230101023137  Aan Chuuphan\n",
       "1  060230101023139  Aan Chuuphan\n",
       "2  060230101023141  Aan Chuuphan\n",
       "3  060230101023154  Aan Chuuphan\n",
       "4  060230101023155  Aan Chuuphan"
      ]
     },
     "execution_count": 6,
     "metadata": {},
     "output_type": "execute_result"
    }
   ],
   "source": [
    "isps.head()"
   ]
  },
  {
   "cell_type": "markdown",
   "metadata": {},
   "source": [
    "<h4>Dropping duplicate ISPs in each block (when one ISP provides multiple types of services in one block)</h4>"
   ]
  },
  {
   "cell_type": "code",
   "execution_count": 7,
   "metadata": {},
   "outputs": [],
   "source": [
    "isps = isps.drop_duplicates(subset=['BlockCode', 'DBA'])"
   ]
  },
  {
   "cell_type": "markdown",
   "metadata": {},
   "source": [
    "<h4>Checking data types of both columns of ISP data</h4>"
   ]
  },
  {
   "cell_type": "code",
   "execution_count": 8,
   "metadata": {},
   "outputs": [
    {
     "data": {
      "text/plain": [
       "BlockCode    object\n",
       "DBA          object\n",
       "dtype: object"
      ]
     },
     "execution_count": 8,
     "metadata": {},
     "output_type": "execute_result"
    }
   ],
   "source": [
    "isps.dtypes"
   ]
  },
  {
   "cell_type": "markdown",
   "metadata": {},
   "source": [
    "<h4>Changing data type of BlockCode to int64 so it matches with the population data</h4>"
   ]
  },
  {
   "cell_type": "code",
   "execution_count": 9,
   "metadata": {},
   "outputs": [],
   "source": [
    "isps = isps.astype({'BlockCode': 'int64'})"
   ]
  },
  {
   "cell_type": "markdown",
   "metadata": {},
   "source": [
    "<h4>Verifying change of data type</h4>"
   ]
  },
  {
   "cell_type": "code",
   "execution_count": 10,
   "metadata": {},
   "outputs": [
    {
     "data": {
      "text/plain": [
       "BlockCode     int64\n",
       "DBA          object\n",
       "dtype: object"
      ]
     },
     "execution_count": 10,
     "metadata": {},
     "output_type": "execute_result"
    }
   ],
   "source": [
    "isps.dtypes"
   ]
  },
  {
   "cell_type": "markdown",
   "metadata": {},
   "source": [
    "<h4>Counting the number of rows in the ISP data</h4>"
   ]
  },
  {
   "cell_type": "code",
   "execution_count": 11,
   "metadata": {},
   "outputs": [
    {
     "data": {
      "text/plain": [
       "BlockCode    701903\n",
       "DBA          701903\n",
       "dtype: int64"
      ]
     },
     "execution_count": 11,
     "metadata": {},
     "output_type": "execute_result"
    }
   ],
   "source": [
    "isps.count()"
   ]
  },
  {
   "cell_type": "markdown",
   "metadata": {},
   "source": [
    "<h4>Loading population data</h4>"
   ]
  },
  {
   "cell_type": "code",
   "execution_count": 12,
   "metadata": {},
   "outputs": [],
   "source": [
    "population = pandas.read_csv(\"../../Data/R12742217_SL100.csv\", low_memory=False)"
   ]
  },
  {
   "cell_type": "markdown",
   "metadata": {},
   "source": [
    "<h4>Taking a peek at the loaded population data</h4>"
   ]
  },
  {
   "cell_type": "code",
   "execution_count": 13,
   "metadata": {},
   "outputs": [
    {
     "data": {
      "text/html": [
       "<div>\n",
       "<style scoped>\n",
       "    .dataframe tbody tr th:only-of-type {\n",
       "        vertical-align: middle;\n",
       "    }\n",
       "\n",
       "    .dataframe tbody tr th {\n",
       "        vertical-align: top;\n",
       "    }\n",
       "\n",
       "    .dataframe thead th {\n",
       "        text-align: right;\n",
       "    }\n",
       "</style>\n",
       "<table border=\"1\" class=\"dataframe\">\n",
       "  <thead>\n",
       "    <tr style=\"text-align: right;\">\n",
       "      <th></th>\n",
       "      <th>Geo_NAME</th>\n",
       "      <th>Geo_QName</th>\n",
       "      <th>Geo_AREALAND</th>\n",
       "      <th>Geo_AREAWATR</th>\n",
       "      <th>Geo_SUMLEV</th>\n",
       "      <th>Geo_GEOCOMP</th>\n",
       "      <th>Geo_REGION</th>\n",
       "      <th>Geo_DIVISION</th>\n",
       "      <th>Geo_FIPS</th>\n",
       "      <th>Geo_STATE</th>\n",
       "      <th>...</th>\n",
       "      <th>SE_T001_001</th>\n",
       "      <th>SE_T058_001</th>\n",
       "      <th>SE_T058_002</th>\n",
       "      <th>SE_T058_003</th>\n",
       "      <th>SE_T058_004</th>\n",
       "      <th>SE_T058_005</th>\n",
       "      <th>SE_T058_006</th>\n",
       "      <th>SE_T058_007</th>\n",
       "      <th>SE_T058_008</th>\n",
       "      <th>SE_T058_009</th>\n",
       "    </tr>\n",
       "  </thead>\n",
       "  <tbody>\n",
       "    <tr>\n",
       "      <th>0</th>\n",
       "      <td>Block 1000</td>\n",
       "      <td>Block 1000, Block Group 1, Census Tract 4001, ...</td>\n",
       "      <td>590336.0</td>\n",
       "      <td>0</td>\n",
       "      <td>100</td>\n",
       "      <td>0</td>\n",
       "      <td>4</td>\n",
       "      <td>9</td>\n",
       "      <td>60014001001000</td>\n",
       "      <td>6</td>\n",
       "      <td>...</td>\n",
       "      <td>0</td>\n",
       "      <td>0</td>\n",
       "      <td>0</td>\n",
       "      <td>0</td>\n",
       "      <td>0</td>\n",
       "      <td>0</td>\n",
       "      <td>0</td>\n",
       "      <td>0</td>\n",
       "      <td>0</td>\n",
       "      <td>0</td>\n",
       "    </tr>\n",
       "    <tr>\n",
       "      <th>1</th>\n",
       "      <td>Block 1001</td>\n",
       "      <td>Block 1001, Block Group 1, Census Tract 4001, ...</td>\n",
       "      <td>22089.0</td>\n",
       "      <td>0</td>\n",
       "      <td>100</td>\n",
       "      <td>0</td>\n",
       "      <td>4</td>\n",
       "      <td>9</td>\n",
       "      <td>60014001001001</td>\n",
       "      <td>6</td>\n",
       "      <td>...</td>\n",
       "      <td>0</td>\n",
       "      <td>0</td>\n",
       "      <td>0</td>\n",
       "      <td>0</td>\n",
       "      <td>0</td>\n",
       "      <td>0</td>\n",
       "      <td>0</td>\n",
       "      <td>0</td>\n",
       "      <td>0</td>\n",
       "      <td>0</td>\n",
       "    </tr>\n",
       "    <tr>\n",
       "      <th>2</th>\n",
       "      <td>Block 1002</td>\n",
       "      <td>Block 1002, Block Group 1, Census Tract 4001, ...</td>\n",
       "      <td>9433.0</td>\n",
       "      <td>0</td>\n",
       "      <td>100</td>\n",
       "      <td>0</td>\n",
       "      <td>4</td>\n",
       "      <td>9</td>\n",
       "      <td>60014001001002</td>\n",
       "      <td>6</td>\n",
       "      <td>...</td>\n",
       "      <td>0</td>\n",
       "      <td>0</td>\n",
       "      <td>0</td>\n",
       "      <td>0</td>\n",
       "      <td>0</td>\n",
       "      <td>0</td>\n",
       "      <td>0</td>\n",
       "      <td>0</td>\n",
       "      <td>0</td>\n",
       "      <td>0</td>\n",
       "    </tr>\n",
       "    <tr>\n",
       "      <th>3</th>\n",
       "      <td>Block 1003</td>\n",
       "      <td>Block 1003, Block Group 1, Census Tract 4001, ...</td>\n",
       "      <td>1354.0</td>\n",
       "      <td>0</td>\n",
       "      <td>100</td>\n",
       "      <td>0</td>\n",
       "      <td>4</td>\n",
       "      <td>9</td>\n",
       "      <td>60014001001003</td>\n",
       "      <td>6</td>\n",
       "      <td>...</td>\n",
       "      <td>0</td>\n",
       "      <td>0</td>\n",
       "      <td>0</td>\n",
       "      <td>0</td>\n",
       "      <td>0</td>\n",
       "      <td>0</td>\n",
       "      <td>0</td>\n",
       "      <td>0</td>\n",
       "      <td>0</td>\n",
       "      <td>0</td>\n",
       "    </tr>\n",
       "    <tr>\n",
       "      <th>4</th>\n",
       "      <td>Block 1004</td>\n",
       "      <td>Block 1004, Block Group 1, Census Tract 4001, ...</td>\n",
       "      <td>7977.0</td>\n",
       "      <td>0</td>\n",
       "      <td>100</td>\n",
       "      <td>0</td>\n",
       "      <td>4</td>\n",
       "      <td>9</td>\n",
       "      <td>60014001001004</td>\n",
       "      <td>6</td>\n",
       "      <td>...</td>\n",
       "      <td>0</td>\n",
       "      <td>0</td>\n",
       "      <td>0</td>\n",
       "      <td>0</td>\n",
       "      <td>0</td>\n",
       "      <td>0</td>\n",
       "      <td>0</td>\n",
       "      <td>0</td>\n",
       "      <td>0</td>\n",
       "      <td>0</td>\n",
       "    </tr>\n",
       "  </tbody>\n",
       "</table>\n",
       "<p>5 rows × 23 columns</p>\n",
       "</div>"
      ],
      "text/plain": [
       "     Geo_NAME                                          Geo_QName  \\\n",
       "0  Block 1000  Block 1000, Block Group 1, Census Tract 4001, ...   \n",
       "1  Block 1001  Block 1001, Block Group 1, Census Tract 4001, ...   \n",
       "2  Block 1002  Block 1002, Block Group 1, Census Tract 4001, ...   \n",
       "3  Block 1003  Block 1003, Block Group 1, Census Tract 4001, ...   \n",
       "4  Block 1004  Block 1004, Block Group 1, Census Tract 4001, ...   \n",
       "\n",
       "   Geo_AREALAND  Geo_AREAWATR  Geo_SUMLEV  Geo_GEOCOMP  Geo_REGION  \\\n",
       "0      590336.0             0         100            0           4   \n",
       "1       22089.0             0         100            0           4   \n",
       "2        9433.0             0         100            0           4   \n",
       "3        1354.0             0         100            0           4   \n",
       "4        7977.0             0         100            0           4   \n",
       "\n",
       "   Geo_DIVISION        Geo_FIPS  Geo_STATE  ...  SE_T001_001  SE_T058_001  \\\n",
       "0             9  60014001001000          6  ...            0            0   \n",
       "1             9  60014001001001          6  ...            0            0   \n",
       "2             9  60014001001002          6  ...            0            0   \n",
       "3             9  60014001001003          6  ...            0            0   \n",
       "4             9  60014001001004          6  ...            0            0   \n",
       "\n",
       "   SE_T058_002  SE_T058_003  SE_T058_004  SE_T058_005  SE_T058_006  \\\n",
       "0            0            0            0            0            0   \n",
       "1            0            0            0            0            0   \n",
       "2            0            0            0            0            0   \n",
       "3            0            0            0            0            0   \n",
       "4            0            0            0            0            0   \n",
       "\n",
       "   SE_T058_007  SE_T058_008  SE_T058_009  \n",
       "0            0            0            0  \n",
       "1            0            0            0  \n",
       "2            0            0            0  \n",
       "3            0            0            0  \n",
       "4            0            0            0  \n",
       "\n",
       "[5 rows x 23 columns]"
      ]
     },
     "execution_count": 13,
     "metadata": {},
     "output_type": "execute_result"
    }
   ],
   "source": [
    "population.head()"
   ]
  },
  {
   "cell_type": "markdown",
   "metadata": {},
   "source": [
    "<h4>Filtering the data to include only two columns, Geo_FIPS, SE_T001_001, and SE_T058_001</h4>"
   ]
  },
  {
   "cell_type": "markdown",
   "metadata": {},
   "source": [
    "<h5>Geo_FIPS is the Block Code and SE_T001_001 is the total population, and SE_T058_001 is the number of households within that census block according to the 2010 census</h5>"
   ]
  },
  {
   "cell_type": "code",
   "execution_count": 14,
   "metadata": {},
   "outputs": [],
   "source": [
    "total_population_by_block = population[['Geo_FIPS','SE_T001_001', 'SE_T058_001']]"
   ]
  },
  {
   "cell_type": "markdown",
   "metadata": {},
   "source": [
    "<h4>Checking data types of columns of population data</h4>"
   ]
  },
  {
   "cell_type": "code",
   "execution_count": 15,
   "metadata": {},
   "outputs": [
    {
     "data": {
      "text/plain": [
       "Geo_FIPS       int64\n",
       "SE_T001_001    int64\n",
       "SE_T058_001    int64\n",
       "dtype: object"
      ]
     },
     "execution_count": 15,
     "metadata": {},
     "output_type": "execute_result"
    }
   ],
   "source": [
    "total_population_by_block.dtypes"
   ]
  },
  {
   "cell_type": "markdown",
   "metadata": {},
   "source": [
    "<h4>Counting number of rows in the population data</h4>"
   ]
  },
  {
   "cell_type": "code",
   "execution_count": 16,
   "metadata": {},
   "outputs": [
    {
     "data": {
      "text/plain": [
       "Geo_FIPS       710145\n",
       "SE_T001_001    710145\n",
       "SE_T058_001    710145\n",
       "dtype: int64"
      ]
     },
     "execution_count": 16,
     "metadata": {},
     "output_type": "execute_result"
    }
   ],
   "source": [
    "total_population_by_block.count()"
   ]
  },
  {
   "cell_type": "markdown",
   "metadata": {},
   "source": [
    "<h4>Joining ISP data with population data on the matching census block code</h4>"
   ]
  },
  {
   "cell_type": "code",
   "execution_count": 17,
   "metadata": {},
   "outputs": [],
   "source": [
    "joined_data = isps.set_index('BlockCode').join(total_population_by_block.set_index('Geo_FIPS'))"
   ]
  },
  {
   "cell_type": "markdown",
   "metadata": {},
   "source": [
    "<h4>Taking a peek at the joined data</h4>"
   ]
  },
  {
   "cell_type": "code",
   "execution_count": 18,
   "metadata": {},
   "outputs": [
    {
     "data": {
      "text/html": [
       "<div>\n",
       "<style scoped>\n",
       "    .dataframe tbody tr th:only-of-type {\n",
       "        vertical-align: middle;\n",
       "    }\n",
       "\n",
       "    .dataframe tbody tr th {\n",
       "        vertical-align: top;\n",
       "    }\n",
       "\n",
       "    .dataframe thead th {\n",
       "        text-align: right;\n",
       "    }\n",
       "</style>\n",
       "<table border=\"1\" class=\"dataframe\">\n",
       "  <thead>\n",
       "    <tr style=\"text-align: right;\">\n",
       "      <th></th>\n",
       "      <th>DBA</th>\n",
       "      <th>SE_T001_001</th>\n",
       "      <th>SE_T058_001</th>\n",
       "    </tr>\n",
       "  </thead>\n",
       "  <tbody>\n",
       "    <tr>\n",
       "      <th>60014001001007</th>\n",
       "      <td>AT&amp;T Service, Inc.</td>\n",
       "      <td>117</td>\n",
       "      <td>53</td>\n",
       "    </tr>\n",
       "    <tr>\n",
       "      <th>60014001001007</th>\n",
       "      <td>Comcast</td>\n",
       "      <td>117</td>\n",
       "      <td>53</td>\n",
       "    </tr>\n",
       "    <tr>\n",
       "      <th>60014001001007</th>\n",
       "      <td>Sonic.net</td>\n",
       "      <td>117</td>\n",
       "      <td>53</td>\n",
       "    </tr>\n",
       "    <tr>\n",
       "      <th>60014001001008</th>\n",
       "      <td>AT&amp;T Service, Inc.</td>\n",
       "      <td>20</td>\n",
       "      <td>9</td>\n",
       "    </tr>\n",
       "    <tr>\n",
       "      <th>60014001001008</th>\n",
       "      <td>Comcast</td>\n",
       "      <td>20</td>\n",
       "      <td>9</td>\n",
       "    </tr>\n",
       "  </tbody>\n",
       "</table>\n",
       "</div>"
      ],
      "text/plain": [
       "                               DBA  SE_T001_001  SE_T058_001\n",
       "60014001001007  AT&T Service, Inc.          117           53\n",
       "60014001001007             Comcast          117           53\n",
       "60014001001007           Sonic.net          117           53\n",
       "60014001001008  AT&T Service, Inc.           20            9\n",
       "60014001001008             Comcast           20            9"
      ]
     },
     "execution_count": 18,
     "metadata": {},
     "output_type": "execute_result"
    }
   ],
   "source": [
    "joined_data.head()"
   ]
  },
  {
   "cell_type": "markdown",
   "metadata": {},
   "source": [
    "<h4>Grouping the joined data by DBA (which is the ISP) and summing the total population to get the maximum population served by the ISP</h4>"
   ]
  },
  {
   "cell_type": "code",
   "execution_count": 19,
   "metadata": {},
   "outputs": [],
   "source": [
    "final = joined_data.groupby(by=[\"DBA\"]).sum()[['SE_T001_001','SE_T058_001']]"
   ]
  },
  {
   "cell_type": "markdown",
   "metadata": {},
   "source": [
    "<h4>Renaming columns</h4>"
   ]
  },
  {
   "cell_type": "code",
   "execution_count": 20,
   "metadata": {},
   "outputs": [],
   "source": [
    "final = final.rename(columns={\"SE_T001_001\": \"Population\", \"SE_T058_001\": \"Households\"})"
   ]
  },
  {
   "cell_type": "markdown",
   "metadata": {},
   "source": [
    "<h4>Printing a sample of the grouped data</h4>"
   ]
  },
  {
   "cell_type": "code",
   "execution_count": 21,
   "metadata": {},
   "outputs": [
    {
     "data": {
      "text/html": [
       "<div>\n",
       "<style scoped>\n",
       "    .dataframe tbody tr th:only-of-type {\n",
       "        vertical-align: middle;\n",
       "    }\n",
       "\n",
       "    .dataframe tbody tr th {\n",
       "        vertical-align: top;\n",
       "    }\n",
       "\n",
       "    .dataframe thead th {\n",
       "        text-align: right;\n",
       "    }\n",
       "</style>\n",
       "<table border=\"1\" class=\"dataframe\">\n",
       "  <thead>\n",
       "    <tr style=\"text-align: right;\">\n",
       "      <th></th>\n",
       "      <th>Population</th>\n",
       "      <th>Households</th>\n",
       "    </tr>\n",
       "    <tr>\n",
       "      <th>DBA</th>\n",
       "      <th></th>\n",
       "      <th></th>\n",
       "    </tr>\n",
       "  </thead>\n",
       "  <tbody>\n",
       "    <tr>\n",
       "      <th>101Netlink</th>\n",
       "      <td>22493</td>\n",
       "      <td>9475</td>\n",
       "    </tr>\n",
       "    <tr>\n",
       "      <th>AFES Network Services LLC</th>\n",
       "      <td>5958</td>\n",
       "      <td>2180</td>\n",
       "    </tr>\n",
       "    <tr>\n",
       "      <th>AT&amp;T Service, Inc.</th>\n",
       "      <td>25008549</td>\n",
       "      <td>8573657</td>\n",
       "    </tr>\n",
       "    <tr>\n",
       "      <th>AVISP</th>\n",
       "      <td>4238</td>\n",
       "      <td>1653</td>\n",
       "    </tr>\n",
       "    <tr>\n",
       "      <th>Aan Chuuphan</th>\n",
       "      <td>415</td>\n",
       "      <td>171</td>\n",
       "    </tr>\n",
       "    <tr>\n",
       "      <th>...</th>\n",
       "      <td>...</td>\n",
       "      <td>...</td>\n",
       "    </tr>\n",
       "    <tr>\n",
       "      <th>Winters Broadband LLC</th>\n",
       "      <td>8049</td>\n",
       "      <td>2941</td>\n",
       "    </tr>\n",
       "    <tr>\n",
       "      <th>Zeta Broadband</th>\n",
       "      <td>36271</td>\n",
       "      <td>13845</td>\n",
       "    </tr>\n",
       "    <tr>\n",
       "      <th>Zito Media</th>\n",
       "      <td>42981</td>\n",
       "      <td>15576</td>\n",
       "    </tr>\n",
       "    <tr>\n",
       "      <th>eastsierra.net</th>\n",
       "      <td>134</td>\n",
       "      <td>62</td>\n",
       "    </tr>\n",
       "    <tr>\n",
       "      <th>unWired Broadband Inc</th>\n",
       "      <td>244489</td>\n",
       "      <td>73124</td>\n",
       "    </tr>\n",
       "  </tbody>\n",
       "</table>\n",
       "<p>127 rows × 2 columns</p>\n",
       "</div>"
      ],
      "text/plain": [
       "                           Population  Households\n",
       "DBA                                              \n",
       "101Netlink                      22493        9475\n",
       "AFES Network Services LLC        5958        2180\n",
       "AT&T Service, Inc.           25008549     8573657\n",
       "AVISP                            4238        1653\n",
       "Aan Chuuphan                      415         171\n",
       "...                               ...         ...\n",
       "Winters Broadband LLC            8049        2941\n",
       "Zeta Broadband                  36271       13845\n",
       "Zito Media                      42981       15576\n",
       "eastsierra.net                    134          62\n",
       "unWired Broadband Inc          244489       73124\n",
       "\n",
       "[127 rows x 2 columns]"
      ]
     },
     "execution_count": 21,
     "metadata": {},
     "output_type": "execute_result"
    }
   ],
   "source": [
    "final"
   ]
  },
  {
   "cell_type": "markdown",
   "metadata": {},
   "source": [
    "<h4>Writing ISP data to CSV file which shows the maximum population served by the ISP</h4>"
   ]
  },
  {
   "cell_type": "code",
   "execution_count": 22,
   "metadata": {},
   "outputs": [],
   "source": [
    "final.to_csv('isp_population.csv', index=True)  "
   ]
  }
 ],
 "metadata": {
  "kernelspec": {
   "display_name": "Python 3",
   "language": "python",
   "name": "python3"
  },
  "language_info": {
   "codemirror_mode": {
    "name": "ipython",
    "version": 3
   },
   "file_extension": ".py",
   "mimetype": "text/x-python",
   "name": "python",
   "nbconvert_exporter": "python",
   "pygments_lexer": "ipython3",
   "version": "3.8.5"
  }
 },
 "nbformat": 4,
 "nbformat_minor": 4
}
